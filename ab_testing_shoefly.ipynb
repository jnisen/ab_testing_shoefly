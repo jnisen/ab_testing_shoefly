{
 "cells": [
  {
   "cell_type": "markdown",
   "metadata": {},
   "source": [
    "## Data\n",
    "- **user_id**: the user_id of customer\n",
    "- **utm_source**: the location where the ad was placed\n",
    "- **day**: what day the ad was viewed by the customer\n",
    "- **ad_click_timestamp**: a timestamp for when the ad was clicked and note that NaN values if the ad was not clicked\n",
    "- **experimental_group**: which ad, A or B, the customer was shown"
   ]
  },
  {
   "cell_type": "markdown",
   "metadata": {},
   "source": [
    "### Load Dataset"
   ]
  },
  {
   "cell_type": "code",
   "execution_count": 159,
   "metadata": {},
   "outputs": [],
   "source": [
    "import pandas as pd\n",
    "import matplotlib.pyplot as plt\n",
    "import seaborn as sns"
   ]
  },
  {
   "cell_type": "code",
   "execution_count": 160,
   "metadata": {},
   "outputs": [
    {
     "data": {
      "text/html": [
       "<div>\n",
       "<style scoped>\n",
       "    .dataframe tbody tr th:only-of-type {\n",
       "        vertical-align: middle;\n",
       "    }\n",
       "\n",
       "    .dataframe tbody tr th {\n",
       "        vertical-align: top;\n",
       "    }\n",
       "\n",
       "    .dataframe thead th {\n",
       "        text-align: right;\n",
       "    }\n",
       "</style>\n",
       "<table border=\"1\" class=\"dataframe\">\n",
       "  <thead>\n",
       "    <tr style=\"text-align: right;\">\n",
       "      <th></th>\n",
       "      <th>user_id</th>\n",
       "      <th>utm_source</th>\n",
       "      <th>day</th>\n",
       "      <th>ad_click_timestamp</th>\n",
       "      <th>experimental_group</th>\n",
       "    </tr>\n",
       "  </thead>\n",
       "  <tbody>\n",
       "    <tr>\n",
       "      <th>0</th>\n",
       "      <td>008b7c6c-7272-471e-b90e-930d548bd8d7</td>\n",
       "      <td>google</td>\n",
       "      <td>6 - Saturday</td>\n",
       "      <td>7:18</td>\n",
       "      <td>A</td>\n",
       "    </tr>\n",
       "    <tr>\n",
       "      <th>1</th>\n",
       "      <td>009abb94-5e14-4b6c-bb1c-4f4df7aa7557</td>\n",
       "      <td>facebook</td>\n",
       "      <td>7 - Sunday</td>\n",
       "      <td>NaN</td>\n",
       "      <td>B</td>\n",
       "    </tr>\n",
       "    <tr>\n",
       "      <th>2</th>\n",
       "      <td>00f5d532-ed58-4570-b6d2-768df5f41aed</td>\n",
       "      <td>twitter</td>\n",
       "      <td>2 - Tuesday</td>\n",
       "      <td>NaN</td>\n",
       "      <td>A</td>\n",
       "    </tr>\n",
       "    <tr>\n",
       "      <th>3</th>\n",
       "      <td>011adc64-0f44-4fd9-a0bb-f1506d2ad439</td>\n",
       "      <td>google</td>\n",
       "      <td>2 - Tuesday</td>\n",
       "      <td>NaN</td>\n",
       "      <td>B</td>\n",
       "    </tr>\n",
       "    <tr>\n",
       "      <th>4</th>\n",
       "      <td>012137e6-7ae7-4649-af68-205b4702169c</td>\n",
       "      <td>facebook</td>\n",
       "      <td>7 - Sunday</td>\n",
       "      <td>NaN</td>\n",
       "      <td>B</td>\n",
       "    </tr>\n",
       "  </tbody>\n",
       "</table>\n",
       "</div>"
      ],
      "text/plain": [
       "                                user_id utm_source           day  \\\n",
       "0  008b7c6c-7272-471e-b90e-930d548bd8d7     google  6 - Saturday   \n",
       "1  009abb94-5e14-4b6c-bb1c-4f4df7aa7557   facebook    7 - Sunday   \n",
       "2  00f5d532-ed58-4570-b6d2-768df5f41aed    twitter   2 - Tuesday   \n",
       "3  011adc64-0f44-4fd9-a0bb-f1506d2ad439     google   2 - Tuesday   \n",
       "4  012137e6-7ae7-4649-af68-205b4702169c   facebook    7 - Sunday   \n",
       "\n",
       "  ad_click_timestamp experimental_group  \n",
       "0               7:18                  A  \n",
       "1                NaN                  B  \n",
       "2                NaN                  A  \n",
       "3                NaN                  B  \n",
       "4                NaN                  B  "
      ]
     },
     "execution_count": 160,
     "metadata": {},
     "output_type": "execute_result"
    }
   ],
   "source": [
    "# read csv and view first rows\n",
    "ad_clicks = pd.read_csv('ad_clicks.csv')\n",
    "ad_clicks.head()"
   ]
  },
  {
   "cell_type": "markdown",
   "metadata": {},
   "source": [
    "### Data Cleaning"
   ]
  },
  {
   "cell_type": "code",
   "execution_count": 161,
   "metadata": {},
   "outputs": [],
   "source": [
    "# change to title utm_source\n",
    "ad_clicks['utm_source'] = ad_clicks['utm_source'].apply(lambda x: x.title()) \n",
    "\n",
    "# change type object to datetime in Ad_Click_Timestamp\n",
    "ad_clicks['ad_click_timestamp'] = pd.to_datetime(ad_clicks['ad_click_timestamp'], format='%H:%M')\n",
    "\n",
    "# change to title all the columns\n",
    "title_columns = [column.title() for column in ad_clicks.columns]\n",
    "ad_clicks.columns = title_columns"
   ]
  },
  {
   "cell_type": "markdown",
   "metadata": {},
   "source": [
    "### Feature Engineering"
   ]
  },
  {
   "cell_type": "code",
   "execution_count": 162,
   "metadata": {},
   "outputs": [],
   "source": [
    "# split the day between the name of the day and the number of it\n",
    "ad_clicks['Day'], ad_clicks['Nro_Day'] = ad_clicks['Day'].apply(lambda x: x.split('-')[1].strip()), \\\n",
    "                                        ad_clicks['Day'].apply(lambda x: x.split('-')[0].strip()).astype(int)\n",
    "\n",
    "# Add Time Of Day to check when the user clicks during the day\n",
    "ad_clicks['Time_Of_Day'] = pd.cut(ad_clicks['Ad_Click_Timestamp'].dt.hour, bins=[0, 12, 18, 24], \\\n",
    "                             labels=['Morning', 'Afternoon', 'Night'], right=False)"
   ]
  },
  {
   "cell_type": "code",
   "execution_count": 163,
   "metadata": {},
   "outputs": [
    {
     "name": "stdout",
     "output_type": "stream",
     "text": [
      "<class 'pandas.core.frame.DataFrame'>\n",
      "RangeIndex: 1654 entries, 0 to 1653\n",
      "Data columns (total 7 columns):\n",
      " #   Column              Non-Null Count  Dtype         \n",
      "---  ------              --------------  -----         \n",
      " 0   User_Id             1654 non-null   object        \n",
      " 1   Utm_Source          1654 non-null   object        \n",
      " 2   Day                 1654 non-null   object        \n",
      " 3   Ad_Click_Timestamp  565 non-null    datetime64[ns]\n",
      " 4   Experimental_Group  1654 non-null   object        \n",
      " 5   Nro_Day             1654 non-null   int32         \n",
      " 6   Time_Of_Day         565 non-null    category      \n",
      "dtypes: category(1), datetime64[ns](1), int32(1), object(4)\n",
      "memory usage: 72.9+ KB\n"
     ]
    }
   ],
   "source": [
    "# Check information about dataset\n",
    "ad_clicks.info()"
   ]
  },
  {
   "cell_type": "markdown",
   "metadata": {},
   "source": [
    "### Analysis Data"
   ]
  },
  {
   "cell_type": "code",
   "execution_count": 164,
   "metadata": {},
   "outputs": [
    {
     "data": {
      "text/html": [
       "<div>\n",
       "<style scoped>\n",
       "    .dataframe tbody tr th:only-of-type {\n",
       "        vertical-align: middle;\n",
       "    }\n",
       "\n",
       "    .dataframe tbody tr th {\n",
       "        vertical-align: top;\n",
       "    }\n",
       "\n",
       "    .dataframe thead th {\n",
       "        text-align: right;\n",
       "    }\n",
       "</style>\n",
       "<table border=\"1\" class=\"dataframe\">\n",
       "  <thead>\n",
       "    <tr style=\"text-align: right;\">\n",
       "      <th></th>\n",
       "      <th>Experimental_Group</th>\n",
       "      <th>User_Id</th>\n",
       "    </tr>\n",
       "  </thead>\n",
       "  <tbody>\n",
       "    <tr>\n",
       "      <th>0</th>\n",
       "      <td>A</td>\n",
       "      <td>827</td>\n",
       "    </tr>\n",
       "    <tr>\n",
       "      <th>1</th>\n",
       "      <td>B</td>\n",
       "      <td>827</td>\n",
       "    </tr>\n",
       "  </tbody>\n",
       "</table>\n",
       "</div>"
      ],
      "text/plain": [
       "  Experimental_Group  User_Id\n",
       "0                  A      827\n",
       "1                  B      827"
      ]
     },
     "execution_count": 164,
     "metadata": {},
     "output_type": "execute_result"
    }
   ],
   "source": [
    "# Check that we have approximetely the same amount of participants in each experimental group\n",
    "ad_clicks.groupby('Experimental_Group', as_index=False).User_Id.count()"
   ]
  },
  {
   "cell_type": "markdown",
   "metadata": {},
   "source": [
    "We have 827 users for each experimental group"
   ]
  },
  {
   "cell_type": "code",
   "execution_count": 165,
   "metadata": {},
   "outputs": [
    {
     "data": {
      "text/html": [
       "<div>\n",
       "<style scoped>\n",
       "    .dataframe tbody tr th:only-of-type {\n",
       "        vertical-align: middle;\n",
       "    }\n",
       "\n",
       "    .dataframe tbody tr th {\n",
       "        vertical-align: top;\n",
       "    }\n",
       "\n",
       "    .dataframe thead th {\n",
       "        text-align: right;\n",
       "    }\n",
       "</style>\n",
       "<table border=\"1\" class=\"dataframe\">\n",
       "  <thead>\n",
       "    <tr style=\"text-align: right;\">\n",
       "      <th></th>\n",
       "      <th>Utm_Source</th>\n",
       "      <th>Count</th>\n",
       "    </tr>\n",
       "  </thead>\n",
       "  <tbody>\n",
       "    <tr>\n",
       "      <th>0</th>\n",
       "      <td>Twitter</td>\n",
       "      <td>215</td>\n",
       "    </tr>\n",
       "    <tr>\n",
       "      <th>1</th>\n",
       "      <td>Email</td>\n",
       "      <td>255</td>\n",
       "    </tr>\n",
       "    <tr>\n",
       "      <th>2</th>\n",
       "      <td>Facebook</td>\n",
       "      <td>504</td>\n",
       "    </tr>\n",
       "    <tr>\n",
       "      <th>3</th>\n",
       "      <td>Google</td>\n",
       "      <td>680</td>\n",
       "    </tr>\n",
       "  </tbody>\n",
       "</table>\n",
       "</div>"
      ],
      "text/plain": [
       "  Utm_Source  Count\n",
       "0    Twitter    215\n",
       "1      Email    255\n",
       "2   Facebook    504\n",
       "3     Google    680"
      ]
     },
     "execution_count": 165,
     "metadata": {},
     "output_type": "execute_result"
    }
   ],
   "source": [
    "# How many views came from each utm_source\n",
    "views_by_source = ad_clicks.groupby('Utm_Source', as_index=False).agg(\n",
    "    Count=('User_Id', 'count')\n",
    ").sort_values('Count', ascending=True, ignore_index=True)\n",
    "\n",
    "views_by_source"
   ]
  },
  {
   "cell_type": "code",
   "execution_count": 166,
   "metadata": {},
   "outputs": [
    {
     "data": {
      "image/png": "[encoded data removed]",
      "text/plain": [
       "<Figure size 1000x300 with 1 Axes>"
      ]
     },
     "metadata": {},
     "output_type": "display_data"
    }
   ],
   "source": [
    "# Let's make a barh to see it in a plot\n",
    "fig, ax = plt.subplots(figsize=(10,3))\n",
    "\n",
    "colors = ['#072F5F', '#1261A0', '#3895D3', '#58CCED']\n",
    "\n",
    "bars = ax.barh(views_by_source['Utm_Source'], width=views_by_source['Count'], color=colors)\n",
    "\n",
    "ax.set_title('Views by UTM Source')\n",
    "\n",
    "for bar, source, value in zip(bars, views_by_source['Utm_Source'], views_by_source['Count']):\n",
    "    ax.text(bar.get_width() + 2.5, bar.get_y() + bar.get_height()/2, f'{value}', ha='left', va='center')\n",
    "\n",
    "plt.show()"
   ]
  },
  {
   "cell_type": "markdown",
   "metadata": {},
   "source": [
    "Google has the most views with 680. Twitter, in the other hand, has the lowest number of views."
   ]
  },
  {
   "cell_type": "code",
   "execution_count": 167,
   "metadata": {},
   "outputs": [
    {
     "data": {
      "text/html": [
       "<div>\n",
       "<style scoped>\n",
       "    .dataframe tbody tr th:only-of-type {\n",
       "        vertical-align: middle;\n",
       "    }\n",
       "\n",
       "    .dataframe tbody tr th {\n",
       "        vertical-align: top;\n",
       "    }\n",
       "\n",
       "    .dataframe thead th {\n",
       "        text-align: right;\n",
       "    }\n",
       "</style>\n",
       "<table border=\"1\" class=\"dataframe\">\n",
       "  <thead>\n",
       "    <tr style=\"text-align: right;\">\n",
       "      <th></th>\n",
       "      <th>User_Id</th>\n",
       "      <th>Utm_Source</th>\n",
       "      <th>Day</th>\n",
       "      <th>Ad_Click_Timestamp</th>\n",
       "      <th>Experimental_Group</th>\n",
       "      <th>Nro_Day</th>\n",
       "      <th>Time_Of_Day</th>\n",
       "      <th>Is_Click</th>\n",
       "    </tr>\n",
       "  </thead>\n",
       "  <tbody>\n",
       "    <tr>\n",
       "      <th>0</th>\n",
       "      <td>008b7c6c-7272-471e-b90e-930d548bd8d7</td>\n",
       "      <td>Google</td>\n",
       "      <td>Saturday</td>\n",
       "      <td>1900-01-01 07:18:00</td>\n",
       "      <td>A</td>\n",
       "      <td>6</td>\n",
       "      <td>Morning</td>\n",
       "      <td>True</td>\n",
       "    </tr>\n",
       "    <tr>\n",
       "      <th>1</th>\n",
       "      <td>009abb94-5e14-4b6c-bb1c-4f4df7aa7557</td>\n",
       "      <td>Facebook</td>\n",
       "      <td>Sunday</td>\n",
       "      <td>NaT</td>\n",
       "      <td>B</td>\n",
       "      <td>7</td>\n",
       "      <td>NaN</td>\n",
       "      <td>False</td>\n",
       "    </tr>\n",
       "    <tr>\n",
       "      <th>2</th>\n",
       "      <td>00f5d532-ed58-4570-b6d2-768df5f41aed</td>\n",
       "      <td>Twitter</td>\n",
       "      <td>Tuesday</td>\n",
       "      <td>NaT</td>\n",
       "      <td>A</td>\n",
       "      <td>2</td>\n",
       "      <td>NaN</td>\n",
       "      <td>False</td>\n",
       "    </tr>\n",
       "    <tr>\n",
       "      <th>3</th>\n",
       "      <td>011adc64-0f44-4fd9-a0bb-f1506d2ad439</td>\n",
       "      <td>Google</td>\n",
       "      <td>Tuesday</td>\n",
       "      <td>NaT</td>\n",
       "      <td>B</td>\n",
       "      <td>2</td>\n",
       "      <td>NaN</td>\n",
       "      <td>False</td>\n",
       "    </tr>\n",
       "    <tr>\n",
       "      <th>4</th>\n",
       "      <td>012137e6-7ae7-4649-af68-205b4702169c</td>\n",
       "      <td>Facebook</td>\n",
       "      <td>Sunday</td>\n",
       "      <td>NaT</td>\n",
       "      <td>B</td>\n",
       "      <td>7</td>\n",
       "      <td>NaN</td>\n",
       "      <td>False</td>\n",
       "    </tr>\n",
       "  </tbody>\n",
       "</table>\n",
       "</div>"
      ],
      "text/plain": [
       "                                User_Id Utm_Source       Day  \\\n",
       "0  008b7c6c-7272-471e-b90e-930d548bd8d7     Google  Saturday   \n",
       "1  009abb94-5e14-4b6c-bb1c-4f4df7aa7557   Facebook    Sunday   \n",
       "2  00f5d532-ed58-4570-b6d2-768df5f41aed    Twitter   Tuesday   \n",
       "3  011adc64-0f44-4fd9-a0bb-f1506d2ad439     Google   Tuesday   \n",
       "4  012137e6-7ae7-4649-af68-205b4702169c   Facebook    Sunday   \n",
       "\n",
       "   Ad_Click_Timestamp Experimental_Group  Nro_Day Time_Of_Day  Is_Click  \n",
       "0 1900-01-01 07:18:00                  A        6     Morning      True  \n",
       "1                 NaT                  B        7         NaN     False  \n",
       "2                 NaT                  A        2         NaN     False  \n",
       "3                 NaT                  B        2         NaN     False  \n",
       "4                 NaT                  B        7         NaN     False  "
      ]
     },
     "execution_count": 167,
     "metadata": {},
     "output_type": "execute_result"
    }
   ],
   "source": [
    "# if ad_click_timestamp is not null, it indicates that the ad was clicked\n",
    "ad_clicks['Is_Click']= ad_clicks['Ad_Click_Timestamp'].notnull()\n",
    "ad_clicks.head()"
   ]
  },
  {
   "cell_type": "code",
   "execution_count": 168,
   "metadata": {},
   "outputs": [
    {
     "data": {
      "text/html": [
       "<div>\n",
       "<style scoped>\n",
       "    .dataframe tbody tr th:only-of-type {\n",
       "        vertical-align: middle;\n",
       "    }\n",
       "\n",
       "    .dataframe tbody tr th {\n",
       "        vertical-align: top;\n",
       "    }\n",
       "\n",
       "    .dataframe thead th {\n",
       "        text-align: right;\n",
       "    }\n",
       "</style>\n",
       "<table border=\"1\" class=\"dataframe\">\n",
       "  <thead>\n",
       "    <tr style=\"text-align: right;\">\n",
       "      <th></th>\n",
       "      <th>Utm_Source</th>\n",
       "      <th>Is_Click</th>\n",
       "      <th>Count</th>\n",
       "    </tr>\n",
       "  </thead>\n",
       "  <tbody>\n",
       "    <tr>\n",
       "      <th>0</th>\n",
       "      <td>Twitter</td>\n",
       "      <td>True</td>\n",
       "      <td>66</td>\n",
       "    </tr>\n",
       "    <tr>\n",
       "      <th>1</th>\n",
       "      <td>Email</td>\n",
       "      <td>True</td>\n",
       "      <td>80</td>\n",
       "    </tr>\n",
       "    <tr>\n",
       "      <th>2</th>\n",
       "      <td>Twitter</td>\n",
       "      <td>False</td>\n",
       "      <td>149</td>\n",
       "    </tr>\n",
       "    <tr>\n",
       "      <th>3</th>\n",
       "      <td>Email</td>\n",
       "      <td>False</td>\n",
       "      <td>175</td>\n",
       "    </tr>\n",
       "    <tr>\n",
       "      <th>4</th>\n",
       "      <td>Facebook</td>\n",
       "      <td>True</td>\n",
       "      <td>180</td>\n",
       "    </tr>\n",
       "    <tr>\n",
       "      <th>5</th>\n",
       "      <td>Google</td>\n",
       "      <td>True</td>\n",
       "      <td>239</td>\n",
       "    </tr>\n",
       "    <tr>\n",
       "      <th>6</th>\n",
       "      <td>Facebook</td>\n",
       "      <td>False</td>\n",
       "      <td>324</td>\n",
       "    </tr>\n",
       "    <tr>\n",
       "      <th>7</th>\n",
       "      <td>Google</td>\n",
       "      <td>False</td>\n",
       "      <td>441</td>\n",
       "    </tr>\n",
       "  </tbody>\n",
       "</table>\n",
       "</div>"
      ],
      "text/plain": [
       "  Utm_Source  Is_Click  Count\n",
       "0    Twitter      True     66\n",
       "1      Email      True     80\n",
       "2    Twitter     False    149\n",
       "3      Email     False    175\n",
       "4   Facebook      True    180\n",
       "5     Google      True    239\n",
       "6   Facebook     False    324\n",
       "7     Google     False    441"
      ]
     },
     "execution_count": 168,
     "metadata": {},
     "output_type": "execute_result"
    }
   ],
   "source": [
    "clicks_by_source = ad_clicks.groupby(['Utm_Source','Is_Click'], as_index=False).agg(\n",
    "    Count=('User_Id', 'count')\n",
    ").sort_values('Count', ascending=True, ignore_index=True)\n",
    "\n",
    "clicks_by_source"
   ]
  },
  {
   "cell_type": "code",
   "execution_count": 169,
   "metadata": {},
   "outputs": [
    {
     "data": {
      "image/png": "[encoded data removed]",
      "text/plain": [
       "<Figure size 1000x300 with 1 Axes>"
      ]
     },
     "metadata": {},
     "output_type": "display_data"
    }
   ],
   "source": [
    "# Let's plot only amount of clicks for each source\n",
    "\n",
    "# Filter for those records that ad was clicked\n",
    "clicks_by_source_true = clicks_by_source[clicks_by_source['Is_Click'] == True]\n",
    "\n",
    "fig, ax = plt.subplots(figsize=(10,3))\n",
    "bars = ax.barh(clicks_by_source_true['Utm_Source'], width=clicks_by_source_true['Count'], color=colors)\n",
    "\n",
    "ax.set_title('Ad Clicks by UTM Source')\n",
    "\n",
    "for bar, source, value in zip(bars, clicks_by_source_true['Utm_Source'], clicks_by_source_true['Count']):\n",
    "    ax.text(bar.get_width() + 2.5, bar.get_y() + bar.get_height()/2, f'{value}', ha='left', va='center')\n",
    "\n",
    "plt.show()"
   ]
  },
  {
   "cell_type": "markdown",
   "metadata": {},
   "source": [
    "Google has the most clicks with 239. Twitter, in the other hand, has the lowest number of clicks."
   ]
  },
  {
   "cell_type": "code",
   "execution_count": 170,
   "metadata": {},
   "outputs": [
    {
     "data": {
      "text/html": [
       "<div>\n",
       "<style scoped>\n",
       "    .dataframe tbody tr th:only-of-type {\n",
       "        vertical-align: middle;\n",
       "    }\n",
       "\n",
       "    .dataframe tbody tr th {\n",
       "        vertical-align: top;\n",
       "    }\n",
       "\n",
       "    .dataframe thead th {\n",
       "        text-align: right;\n",
       "    }\n",
       "</style>\n",
       "<table border=\"1\" class=\"dataframe\">\n",
       "  <thead>\n",
       "    <tr style=\"text-align: right;\">\n",
       "      <th>Is_Click</th>\n",
       "      <th>False</th>\n",
       "      <th>True</th>\n",
       "      <th>Conversion_Rate</th>\n",
       "    </tr>\n",
       "    <tr>\n",
       "      <th>Utm_Source</th>\n",
       "      <th></th>\n",
       "      <th></th>\n",
       "      <th></th>\n",
       "    </tr>\n",
       "  </thead>\n",
       "  <tbody>\n",
       "    <tr>\n",
       "      <th>Twitter</th>\n",
       "      <td>149</td>\n",
       "      <td>66</td>\n",
       "      <td>30.70</td>\n",
       "    </tr>\n",
       "    <tr>\n",
       "      <th>Email</th>\n",
       "      <td>175</td>\n",
       "      <td>80</td>\n",
       "      <td>31.37</td>\n",
       "    </tr>\n",
       "    <tr>\n",
       "      <th>Google</th>\n",
       "      <td>441</td>\n",
       "      <td>239</td>\n",
       "      <td>35.15</td>\n",
       "    </tr>\n",
       "    <tr>\n",
       "      <th>Facebook</th>\n",
       "      <td>324</td>\n",
       "      <td>180</td>\n",
       "      <td>35.71</td>\n",
       "    </tr>\n",
       "  </tbody>\n",
       "</table>\n",
       "</div>"
      ],
      "text/plain": [
       "Is_Click    False  True  Conversion_Rate\n",
       "Utm_Source                              \n",
       "Twitter       149    66            30.70\n",
       "Email         175    80            31.37\n",
       "Google        441   239            35.15\n",
       "Facebook      324   180            35.71"
      ]
     },
     "execution_count": 170,
     "metadata": {},
     "output_type": "execute_result"
    }
   ],
   "source": [
    "# Pivot the data so that columns are is_click, the index is utm_source, and values as count\n",
    "clicks_pivot = clicks_by_source.pivot(columns='Is_Click', index='Utm_Source', values='Count')\n",
    "\n",
    "# Let's get the conversion rate: those who has clicked v. the total of users that viewed the ad.\n",
    "clicks_pivot['Conversion_Rate'] = (clicks_pivot[True] / (clicks_pivot[True] + clicks_pivot[False]) * 100).round(2)\n",
    "clicks_pivot = clicks_pivot.sort_values('Conversion_Rate', ascending = True)\n",
    "clicks_pivot"
   ]
  },
  {
   "cell_type": "code",
   "execution_count": 171,
   "metadata": {},
   "outputs": [
    {
     "data": {
      "image/png": "[encoded data removed]",
      "text/plain": [
       "<Figure size 1000x300 with 1 Axes>"
      ]
     },
     "metadata": {},
     "output_type": "display_data"
    }
   ],
   "source": [
    "fig, ax = plt.subplots(figsize=(10,3))\n",
    "bars = ax.barh(clicks_pivot.index, width=clicks_pivot['Conversion_Rate'], color=colors)\n",
    "\n",
    "ax.set_title('Ad Clicks by UTM Source')\n",
    "ax.set_xlim(0, 40)\n",
    "\n",
    "for bar, source, value in zip(bars, clicks_pivot.index, clicks_pivot['Conversion_Rate']):\n",
    "    ax.text(bar.get_width() + 0.5, bar.get_y() + bar.get_height()/2, f'{value}%', ha='left', va='center')\n",
    "\n",
    "\n",
    "plt.show()"
   ]
  },
  {
   "cell_type": "markdown",
   "metadata": {},
   "source": [
    "Even that Facebook in views and clicks are lower than Google, it has better conversion rate with 35.71% (although is really small difference to Google). Email and Twitter has lower conversion rate than Facebook and Google."
   ]
  },
  {
   "cell_type": "code",
   "execution_count": 172,
   "metadata": {},
   "outputs": [
    {
     "data": {
      "text/html": [
       "<div>\n",
       "<style scoped>\n",
       "    .dataframe tbody tr th:only-of-type {\n",
       "        vertical-align: middle;\n",
       "    }\n",
       "\n",
       "    .dataframe tbody tr th {\n",
       "        vertical-align: top;\n",
       "    }\n",
       "\n",
       "    .dataframe thead th {\n",
       "        text-align: right;\n",
       "    }\n",
       "</style>\n",
       "<table border=\"1\" class=\"dataframe\">\n",
       "  <thead>\n",
       "    <tr style=\"text-align: right;\">\n",
       "      <th></th>\n",
       "      <th>Experimental_Group</th>\n",
       "      <th>Is_Click</th>\n",
       "      <th>Count</th>\n",
       "    </tr>\n",
       "  </thead>\n",
       "  <tbody>\n",
       "    <tr>\n",
       "      <th>0</th>\n",
       "      <td>B</td>\n",
       "      <td>True</td>\n",
       "      <td>255</td>\n",
       "    </tr>\n",
       "    <tr>\n",
       "      <th>1</th>\n",
       "      <td>A</td>\n",
       "      <td>True</td>\n",
       "      <td>310</td>\n",
       "    </tr>\n",
       "    <tr>\n",
       "      <th>2</th>\n",
       "      <td>A</td>\n",
       "      <td>False</td>\n",
       "      <td>517</td>\n",
       "    </tr>\n",
       "    <tr>\n",
       "      <th>3</th>\n",
       "      <td>B</td>\n",
       "      <td>False</td>\n",
       "      <td>572</td>\n",
       "    </tr>\n",
       "  </tbody>\n",
       "</table>\n",
       "</div>"
      ],
      "text/plain": [
       "  Experimental_Group  Is_Click  Count\n",
       "0                  B      True    255\n",
       "1                  A      True    310\n",
       "2                  A     False    517\n",
       "3                  B     False    572"
      ]
     },
     "execution_count": 172,
     "metadata": {},
     "output_type": "execute_result"
    }
   ],
   "source": [
    "# Analyzing an A/B test. Column experimental_group tells us whether the user was shown Ad A or Ad B.\n",
    "experimental = ad_clicks.groupby(['Experimental_Group', 'Is_Click'], as_index=False).agg(\n",
    "    Count=('User_Id', 'count')\n",
    ").sort_values('Count', ascending=True, ignore_index=True)\n",
    "\n",
    "experimental"
   ]
  },
  {
   "cell_type": "code",
   "execution_count": 173,
   "metadata": {},
   "outputs": [
    {
     "data": {
      "text/html": [
       "<div>\n",
       "<style scoped>\n",
       "    .dataframe tbody tr th:only-of-type {\n",
       "        vertical-align: middle;\n",
       "    }\n",
       "\n",
       "    .dataframe tbody tr th {\n",
       "        vertical-align: top;\n",
       "    }\n",
       "\n",
       "    .dataframe thead th {\n",
       "        text-align: right;\n",
       "    }\n",
       "</style>\n",
       "<table border=\"1\" class=\"dataframe\">\n",
       "  <thead>\n",
       "    <tr style=\"text-align: right;\">\n",
       "      <th>Is_Click</th>\n",
       "      <th>False</th>\n",
       "      <th>True</th>\n",
       "      <th>Conversion_Rate</th>\n",
       "    </tr>\n",
       "    <tr>\n",
       "      <th>Experimental_Group</th>\n",
       "      <th></th>\n",
       "      <th></th>\n",
       "      <th></th>\n",
       "    </tr>\n",
       "  </thead>\n",
       "  <tbody>\n",
       "    <tr>\n",
       "      <th>A</th>\n",
       "      <td>517</td>\n",
       "      <td>310</td>\n",
       "      <td>37.48</td>\n",
       "    </tr>\n",
       "    <tr>\n",
       "      <th>B</th>\n",
       "      <td>572</td>\n",
       "      <td>255</td>\n",
       "      <td>30.83</td>\n",
       "    </tr>\n",
       "  </tbody>\n",
       "</table>\n",
       "</div>"
      ],
      "text/plain": [
       "Is_Click            False  True  Conversion_Rate\n",
       "Experimental_Group                              \n",
       "A                     517   310            37.48\n",
       "B                     572   255            30.83"
      ]
     },
     "execution_count": 173,
     "metadata": {},
     "output_type": "execute_result"
    }
   ],
   "source": [
    "# Using the column is_click, check to see if a greater percentage of users clicked on Ad A or Ad B. \n",
    "\n",
    "# First lets pivot with is_click as columns, index with experimental_group and user_id as count\n",
    "experimental_pivot = experimental.pivot(columns='Is_Click', index='Experimental_Group', values='Count')\n",
    "\n",
    "experimental_pivot['Conversion_Rate'] = (100 * experimental_pivot[True] / \\\n",
    "                                          (experimental_pivot[True] + experimental_pivot[False])).round(2)\n",
    "\n",
    "experimental_pivot"
   ]
  },
  {
   "cell_type": "code",
   "execution_count": 243,
   "metadata": {},
   "outputs": [
    {
     "data": {
      "image/png": "[encoded data removed]",
      "text/plain": [
       "<Figure size 1000x300 with 1 Axes>"
      ]
     },
     "metadata": {},
     "output_type": "display_data"
    }
   ],
   "source": [
    "# Get data for plot\n",
    "range_experimental_pivot = range(len(experimental_pivot))\n",
    "conversion_rate_values = experimental_pivot['Conversion_Rate'].values\n",
    "\n",
    "fig, ax = plt.subplots(figsize=(10,3))\n",
    "bars = plt.bar(range_experimental_pivot,conversion_rate_values,color=['tab:blue','tab:orange'])\n",
    "\n",
    "ax.set_title('Conversion Rates for Ad Types: A v. B')\n",
    "ax.set_xticks(range_experimental_pivot,labels = ['A', 'B'])\n",
    "\n",
    "ax.set_ylim(0, 45)\n",
    "\n",
    "for bar in bars:\n",
    "   height = bar.get_height()\n",
    "   ax.annotate('{:.2f}%'.format(height),\n",
    "      xy=(bar.get_x() + bar.get_width() / 2, height),\n",
    "      xytext=(0, 3), \n",
    "      textcoords=\"offset points\",\n",
    "      ha='center', va='bottom')\n",
    "\n",
    "plt.show()"
   ]
  },
  {
   "cell_type": "markdown",
   "metadata": {},
   "source": [
    "It was more likely that the user has clicked in the A than B ad"
   ]
  },
  {
   "cell_type": "code",
   "execution_count": 226,
   "metadata": {},
   "outputs": [
    {
     "data": {
      "text/html": [
       "<div>\n",
       "<style scoped>\n",
       "    .dataframe tbody tr th:only-of-type {\n",
       "        vertical-align: middle;\n",
       "    }\n",
       "\n",
       "    .dataframe tbody tr th {\n",
       "        vertical-align: top;\n",
       "    }\n",
       "\n",
       "    .dataframe thead th {\n",
       "        text-align: right;\n",
       "    }\n",
       "</style>\n",
       "<table border=\"1\" class=\"dataframe\">\n",
       "  <thead>\n",
       "    <tr style=\"text-align: right;\">\n",
       "      <th></th>\n",
       "      <th>Experimental_Group</th>\n",
       "      <th>Time_Of_Day</th>\n",
       "      <th>Count</th>\n",
       "      <th>Percentage</th>\n",
       "    </tr>\n",
       "  </thead>\n",
       "  <tbody>\n",
       "    <tr>\n",
       "      <th>3</th>\n",
       "      <td>B</td>\n",
       "      <td>Morning</td>\n",
       "      <td>133</td>\n",
       "      <td>52.16</td>\n",
       "    </tr>\n",
       "    <tr>\n",
       "      <th>4</th>\n",
       "      <td>B</td>\n",
       "      <td>Afternoon</td>\n",
       "      <td>65</td>\n",
       "      <td>25.49</td>\n",
       "    </tr>\n",
       "    <tr>\n",
       "      <th>5</th>\n",
       "      <td>B</td>\n",
       "      <td>Night</td>\n",
       "      <td>57</td>\n",
       "      <td>22.35</td>\n",
       "    </tr>\n",
       "  </tbody>\n",
       "</table>\n",
       "</div>"
      ],
      "text/plain": [
       "  Experimental_Group Time_Of_Day  Count  Percentage\n",
       "3                  B     Morning    133       52.16\n",
       "4                  B   Afternoon     65       25.49\n",
       "5                  B       Night     57       22.35"
      ]
     },
     "execution_count": 226,
     "metadata": {},
     "output_type": "execute_result"
    }
   ],
   "source": [
    "time_of_day = ad_clicks[ad_clicks['Time_Of_Day'].notnull()]\n",
    "time_grouped = time_of_day.groupby(['Experimental_Group', 'Time_Of_Day'], as_index=False).agg(\n",
    "    Count = ('User_Id', 'count')\n",
    ")\n",
    "\n",
    "time_grouped_A = time_grouped[time_grouped['Experimental_Group'] == 'A']\n",
    "time_grouped_B = time_grouped[time_grouped['Experimental_Group'] == 'B']\n",
    "\n",
    "time_grouped_A = time_grouped_A.copy()\n",
    "time_grouped_A['Percentage'] = (100 * time_grouped_A['Count'] / time_grouped_A['Count'].sum()).round(2) \n",
    "\n",
    "time_grouped_B = time_grouped_B.copy()\n",
    "time_grouped_B['Percentage'] = (100 * time_grouped_B['Count'] / time_grouped_B['Count'].sum()).round(2) "
   ]
  },
  {
   "cell_type": "code",
   "execution_count": 252,
   "metadata": {},
   "outputs": [
    {
     "data": {
      "image/png": "[encoded data removed]",
      "text/plain": [
       "<Figure size 1000x400 with 2 Axes>"
      ]
     },
     "metadata": {},
     "output_type": "display_data"
    }
   ],
   "source": [
    "# Plot - Time of Day\n",
    "fig, ax = plt.subplots(1,2, figsize=(10, 4), sharey=True)\n",
    "\n",
    "sns.barplot(x='Time_Of_Day' , y='Percentage', data = time_grouped_A, ax=ax[0], palette='viridis')\n",
    "sns.barplot(x='Time_Of_Day' , y='Percentage', data = time_grouped_B, ax=ax[1], palette='viridis')\n",
    "\n",
    "for p in ax[0].patches:\n",
    "    ax[0].annotate(f'{p.get_height()}%', (p.get_x() + p.get_width() / 2., p.get_height()),\n",
    "                   ha='center', va='center', xytext=(0, 10), textcoords='offset points')\n",
    "    \n",
    "for p in ax[1].patches:\n",
    "    ax[1].annotate(f'{p.get_height()}%', (p.get_x() + p.get_width() / 2., p.get_height()),\n",
    "                   ha='center', va='center', xytext=(0, 10), textcoords='offset points')\n",
    "\n",
    "\n",
    "ax[0].set_xlabel('')\n",
    "ax[0].set_title('Ad A')\n",
    "\n",
    "ax[1].set_title('Ad B')\n",
    "ax[1].set_xlabel('')\n",
    "ax[1].set_ylabel('')\n",
    "\n",
    "ax[0].set_ylim(0,100)\n",
    "\n",
    "\n",
    "plt.show()"
   ]
  },
  {
   "cell_type": "code",
   "execution_count": 175,
   "metadata": {},
   "outputs": [],
   "source": [
    "# Check the day for each ad if it has a relevant impact\n",
    "\n",
    "# Subset for each group of ad: A and B.\n",
    "a_clicks= ad_clicks[ad_clicks.Experimental_Group == 'A']\n",
    "b_clicks= ad_clicks[ad_clicks.Experimental_Group == 'B']"
   ]
  },
  {
   "cell_type": "code",
   "execution_count": 177,
   "metadata": {},
   "outputs": [
    {
     "data": {
      "text/html": [
       "<div>\n",
       "<style scoped>\n",
       "    .dataframe tbody tr th:only-of-type {\n",
       "        vertical-align: middle;\n",
       "    }\n",
       "\n",
       "    .dataframe tbody tr th {\n",
       "        vertical-align: top;\n",
       "    }\n",
       "\n",
       "    .dataframe thead th {\n",
       "        text-align: right;\n",
       "    }\n",
       "</style>\n",
       "<table border=\"1\" class=\"dataframe\">\n",
       "  <thead>\n",
       "    <tr style=\"text-align: right;\">\n",
       "      <th></th>\n",
       "      <th>Is_Click</th>\n",
       "      <th>False</th>\n",
       "      <th>True</th>\n",
       "      <th>Conversion_Rate</th>\n",
       "    </tr>\n",
       "    <tr>\n",
       "      <th>Nro_Day</th>\n",
       "      <th>Day</th>\n",
       "      <th></th>\n",
       "      <th></th>\n",
       "      <th></th>\n",
       "    </tr>\n",
       "  </thead>\n",
       "  <tbody>\n",
       "    <tr>\n",
       "      <th>1</th>\n",
       "      <th>Monday</th>\n",
       "      <td>70</td>\n",
       "      <td>43</td>\n",
       "      <td>38.05</td>\n",
       "    </tr>\n",
       "    <tr>\n",
       "      <th>2</th>\n",
       "      <th>Tuesday</th>\n",
       "      <td>76</td>\n",
       "      <td>43</td>\n",
       "      <td>36.13</td>\n",
       "    </tr>\n",
       "    <tr>\n",
       "      <th>3</th>\n",
       "      <th>Wednesday</th>\n",
       "      <td>86</td>\n",
       "      <td>38</td>\n",
       "      <td>30.65</td>\n",
       "    </tr>\n",
       "    <tr>\n",
       "      <th>4</th>\n",
       "      <th>Thursday</th>\n",
       "      <td>69</td>\n",
       "      <td>47</td>\n",
       "      <td>40.52</td>\n",
       "    </tr>\n",
       "    <tr>\n",
       "      <th>5</th>\n",
       "      <th>Friday</th>\n",
       "      <td>77</td>\n",
       "      <td>51</td>\n",
       "      <td>39.84</td>\n",
       "    </tr>\n",
       "    <tr>\n",
       "      <th>6</th>\n",
       "      <th>Saturday</th>\n",
       "      <td>73</td>\n",
       "      <td>45</td>\n",
       "      <td>38.14</td>\n",
       "    </tr>\n",
       "    <tr>\n",
       "      <th>7</th>\n",
       "      <th>Sunday</th>\n",
       "      <td>66</td>\n",
       "      <td>43</td>\n",
       "      <td>39.45</td>\n",
       "    </tr>\n",
       "  </tbody>\n",
       "</table>\n",
       "</div>"
      ],
      "text/plain": [
       "Is_Click           False  True  Conversion_Rate\n",
       "Nro_Day Day                                    \n",
       "1       Monday        70    43            38.05\n",
       "2       Tuesday       76    43            36.13\n",
       "3       Wednesday     86    38            30.65\n",
       "4       Thursday      69    47            40.52\n",
       "5       Friday        77    51            39.84\n",
       "6       Saturday      73    45            38.14\n",
       "7       Sunday        66    43            39.45"
      ]
     },
     "execution_count": 177,
     "metadata": {},
     "output_type": "execute_result"
    }
   ],
   "source": [
    "# Ad A. Lets get the conversion rate for each day\n",
    "aclicks = a_clicks.groupby(['Is_Click', 'Day', 'Nro_Day'], as_index=False).User_Id.count()\n",
    "\n",
    "# Pivot\n",
    "aclicks_pivot = aclicks.pivot(columns='Is_Click',index=['Nro_Day','Day'],values='User_Id')\n",
    "\n",
    "aclicks_pivot['Conversion_Rate'] = (aclicks_pivot[True] / (aclicks_pivot[True] + aclicks_pivot[False]) * 100).round(2)\n",
    "\n",
    "aclicks_pivot"
   ]
  },
  {
   "cell_type": "code",
   "execution_count": 178,
   "metadata": {},
   "outputs": [
    {
     "data": {
      "text/html": [
       "<div>\n",
       "<style scoped>\n",
       "    .dataframe tbody tr th:only-of-type {\n",
       "        vertical-align: middle;\n",
       "    }\n",
       "\n",
       "    .dataframe tbody tr th {\n",
       "        vertical-align: top;\n",
       "    }\n",
       "\n",
       "    .dataframe thead th {\n",
       "        text-align: right;\n",
       "    }\n",
       "</style>\n",
       "<table border=\"1\" class=\"dataframe\">\n",
       "  <thead>\n",
       "    <tr style=\"text-align: right;\">\n",
       "      <th></th>\n",
       "      <th>Is_Click</th>\n",
       "      <th>False</th>\n",
       "      <th>True</th>\n",
       "      <th>Conversion_Rate</th>\n",
       "    </tr>\n",
       "    <tr>\n",
       "      <th>Nro_Day</th>\n",
       "      <th>Day</th>\n",
       "      <th></th>\n",
       "      <th></th>\n",
       "      <th></th>\n",
       "    </tr>\n",
       "  </thead>\n",
       "  <tbody>\n",
       "    <tr>\n",
       "      <th>1</th>\n",
       "      <th>Monday</th>\n",
       "      <td>81</td>\n",
       "      <td>32</td>\n",
       "      <td>28.32</td>\n",
       "    </tr>\n",
       "    <tr>\n",
       "      <th>2</th>\n",
       "      <th>Tuesday</th>\n",
       "      <td>74</td>\n",
       "      <td>45</td>\n",
       "      <td>37.82</td>\n",
       "    </tr>\n",
       "    <tr>\n",
       "      <th>3</th>\n",
       "      <th>Wednesday</th>\n",
       "      <td>89</td>\n",
       "      <td>35</td>\n",
       "      <td>28.23</td>\n",
       "    </tr>\n",
       "    <tr>\n",
       "      <th>4</th>\n",
       "      <th>Thursday</th>\n",
       "      <td>87</td>\n",
       "      <td>29</td>\n",
       "      <td>25.00</td>\n",
       "    </tr>\n",
       "    <tr>\n",
       "      <th>5</th>\n",
       "      <th>Friday</th>\n",
       "      <td>90</td>\n",
       "      <td>38</td>\n",
       "      <td>29.69</td>\n",
       "    </tr>\n",
       "    <tr>\n",
       "      <th>6</th>\n",
       "      <th>Saturday</th>\n",
       "      <td>76</td>\n",
       "      <td>42</td>\n",
       "      <td>35.59</td>\n",
       "    </tr>\n",
       "    <tr>\n",
       "      <th>7</th>\n",
       "      <th>Sunday</th>\n",
       "      <td>75</td>\n",
       "      <td>34</td>\n",
       "      <td>31.19</td>\n",
       "    </tr>\n",
       "  </tbody>\n",
       "</table>\n",
       "</div>"
      ],
      "text/plain": [
       "Is_Click           False  True  Conversion_Rate\n",
       "Nro_Day Day                                    \n",
       "1       Monday        81    32            28.32\n",
       "2       Tuesday       74    45            37.82\n",
       "3       Wednesday     89    35            28.23\n",
       "4       Thursday      87    29            25.00\n",
       "5       Friday        90    38            29.69\n",
       "6       Saturday      76    42            35.59\n",
       "7       Sunday        75    34            31.19"
      ]
     },
     "execution_count": 178,
     "metadata": {},
     "output_type": "execute_result"
    }
   ],
   "source": [
    "# Ad B. Lets get the conversion rate for each day\n",
    "bclicks = b_clicks.groupby(['Is_Click', 'Day', 'Nro_Day'], as_index=False).User_Id.count()\n",
    "\n",
    "# Pivot\n",
    "bclicks_pivot = bclicks.pivot(columns='Is_Click',index=['Nro_Day','Day'],values='User_Id')\n",
    "\n",
    "bclicks_pivot['Conversion_Rate'] = (bclicks_pivot[True] / (bclicks_pivot[True] + bclicks_pivot[False]) * 100).round(2)\n",
    "\n",
    "bclicks_pivot"
   ]
  },
  {
   "cell_type": "code",
   "execution_count": 179,
   "metadata": {},
   "outputs": [
    {
     "data": {
      "image/png": "[encoded data removed]",
      "text/plain": [
       "<Figure size 1000x300 with 1 Axes>"
      ]
     },
     "metadata": {},
     "output_type": "display_data"
    }
   ],
   "source": [
    "a_is_click = range(len(aclicks_pivot))\n",
    "a_pclick = aclicks_pivot['Conversion_Rate'].values\n",
    "\n",
    "b_is_click = range(len(bclicks_pivot))\n",
    "b_pclick = bclicks_pivot['Conversion_Rate'].values\n",
    "\n",
    "unique_days_order = ad_clicks[['Day', 'Nro_Day']].drop_duplicates().sort_values('Nro_Day')\n",
    "\n",
    "fig, ax = plt.subplots(figsize=(10,3))\n",
    "\n",
    "ax.plot(a_is_click,a_pclick,label='Ad A')\n",
    "ax.plot(b_is_click,b_pclick,label='Ad B')\n",
    "\n",
    "ax.set_title('Conversion Rate Ad: A v. B')\n",
    "\n",
    "ax.set_xticks(a_is_click)\n",
    "ax.set_xticklabels(unique_days_order['Day'], rotation=30, ha='right')\n",
    "\n",
    "ax.set_ylim(0, 45)\n",
    "\n",
    "plt.legend(loc=\"lower right\")\n",
    "plt.show()"
   ]
  },
  {
   "cell_type": "markdown",
   "metadata": {},
   "source": [
    "The performance of Ad A outpaced that of Ad B, mostly each day of the week. Ad B only performed better than Ad A on Tuesday."
   ]
  },
  {
   "cell_type": "markdown",
   "metadata": {},
   "source": [
    "# Conclusion\n",
    "- We can say that the sample is fair for both Ad with 827 records\n",
    "- We get the amount of views and clicks of users for each source and their conversion rate\n",
    "- We observe that Google has more views and clicks but regarding of conversion rate, Facebook has the highest percentage against Google and the other social media\n",
    "- Both Google and Facebook have the mayority of the sample. That's why they have the highest percentage of active users who have clicked in the ads.\n",
    "- We get that the best time for the user to click is in the morning in both ads. It almost duplicates the percentage of clicks\n",
    "- Also we analyzed the day of the week who affects the click to answer which ad performs better.\n",
    "- We learned that Ad A has better performance than Ad B, regardless that just in Tuesday is better.\n",
    "- Therefore, We'd recommend the ad A and priorize all the resources for advertsing in Google or Facebook to maximize the user traffic into ShoeFly.com\n"
   ]
  }
 ],
 "metadata": {
  "kernelspec": {
   "display_name": "Python 3",
   "language": "python",
   "name": "python3"
  },
  "language_info": {
   "codemirror_mode": {
    "name": "ipython",
    "version": 3
   },
   "file_extension": ".py",
   "mimetype": "text/x-python",
   "name": "python",
   "nbconvert_exporter": "python",
   "pygments_lexer": "ipython3",
   "version": "3.10.5"
  }
 },
 "nbformat": 4,
 "nbformat_minor": 2
}
